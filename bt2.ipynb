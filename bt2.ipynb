{
 "cells": [
  {
   "metadata": {},
   "cell_type": "markdown",
   "source": "1. Write a Python program to calculate the length of a string.",
   "id": "2b17b04fbb528c02"
  },
  {
   "metadata": {},
   "cell_type": "code",
   "source": [
    "a = input('Nhap vao chuoi')\n",
    "print(len(a))"
   ],
   "id": "3715cecc5b98960a",
   "outputs": [],
   "execution_count": null
  },
  {
   "metadata": {},
   "cell_type": "markdown",
   "source": [
    "2. Write a Python program to count the number of characters (character frequency) in a string.\n",
    "Sample String : google.com'"
   ],
   "id": "cbdb55bd9807a381"
  },
  {
   "metadata": {
    "ExecuteTime": {
     "end_time": "2025-04-04T12:07:18.454194Z",
     "start_time": "2025-04-04T12:07:14.272615Z"
    }
   },
   "cell_type": "code",
   "source": [
    "a = input('Nhap vao chuoi').lower()\n",
    "diction = {}\n",
    "for i in a:\n",
    "    if i not in diction:\n",
    "        diction[i] = 0\n",
    "for i in a:\n",
    "    if i in diction:\n",
    "        diction[i] += 1\n",
    "print(diction)"
   ],
   "id": "c76dbc235ae586d5",
   "outputs": [
    {
     "name": "stdout",
     "output_type": "stream",
     "text": [
      "{'g': 1, 'o': 3, 'l': 1, 'e': 1}\n"
     ]
    }
   ],
   "execution_count": 4
  },
  {
   "metadata": {},
   "cell_type": "markdown",
   "source": [
    "3. Write a Python program to get a string made of the first 2 and last 2 characters of a given\n",
    "string. If the string length is less than 2, return the empty string instead."
   ],
   "id": "3d04751701d2cf44"
  },
  {
   "metadata": {},
   "cell_type": "code",
   "source": [
    "a = input('Nhap vao chuoi')\n",
    "if len(a) > 2:\n",
    "    print(a[0:2]+a[len(a)-2:len(a)])\n",
    "else:\n",
    "    print('')"
   ],
   "id": "534bb1a697bc1f37",
   "outputs": [],
   "execution_count": null
  },
  {
   "metadata": {},
   "cell_type": "markdown",
   "source": [
    "4. Write a Python program to get a string from a given string where all occurrences of its first\n",
    "char have been changed to '$', except the first char itself."
   ],
   "id": "36957ee961b59f4e"
  },
  {
   "metadata": {},
   "cell_type": "code",
   "source": [
    "a = input('Nhap vao chuoi')\n",
    "c = a[0]\n",
    "a = a.replace(a[0],'$')\n",
    "print(c+a[1:len(a)])\n"
   ],
   "id": "60544180278cbb11",
   "outputs": [],
   "execution_count": null
  },
  {
   "metadata": {},
   "cell_type": "markdown",
   "source": [
    "5. Write a Python program to get a single string from two given strings, separated by a space and\n",
    "swap the first two characters of each string"
   ],
   "id": "40392b41c7df3a65"
  },
  {
   "metadata": {},
   "cell_type": "code",
   "source": [
    "a = input('Nhap vao chuoi 1')\n",
    "b = input('Nhap vao chuoi 2')\n",
    "c = b[0:2]+a[len(a)-1] + \" \" + a[0:2]+b[len(a)-1]\n",
    "print(c)"
   ],
   "id": "6802192e9caa9592",
   "outputs": [],
   "execution_count": null
  },
  {
   "metadata": {},
   "cell_type": "markdown",
   "source": [
    "6. Write a Python program to add 'ing' at the end of a given string (length should be at least 3). If\n",
    "the given string already ends with 'ing', add 'ly' instead. If the string length of the given string is\n",
    "less than 3, leave it unchanged."
   ],
   "id": "868ea4aec5afe1af"
  },
  {
   "metadata": {},
   "cell_type": "code",
   "source": [
    "a = input('Nhap vao chuoi')\n",
    "if len(a) < 3:\n",
    "    print(a)\n",
    "else:\n",
    "    if a[len(a)-3:len(a)] == 'ing':\n",
    "        print(a[0:len(a)-3]+'ly')\n",
    "    else:\n",
    "        print(a + \"ing\")\n"
   ],
   "id": "5ad1602a579fcec2",
   "outputs": [],
   "execution_count": null
  },
  {
   "metadata": {},
   "cell_type": "markdown",
   "source": [
    "7. Write a Python program to find the first appearance of the substrings 'not' and 'poor' in a given\n",
    "string. If 'not' follows 'poor', replace the whole 'not'...'poor' substring with 'good'. Return the\n",
    "resulting string."
   ],
   "id": "14d0348f67dd56fe"
  },
  {
   "metadata": {},
   "cell_type": "code",
   "source": [
    "a = input('Nhap vao chuoi')\n",
    "if a.find('not') < a.find('poor'):\n",
    "    c = a[0:a.find('not')] + 'good'+ a[a.find('poor')+4:len(a)]\n",
    "print(c)"
   ],
   "id": "cbe9782b443c6fc2",
   "outputs": [],
   "execution_count": null
  },
  {
   "metadata": {},
   "cell_type": "markdown",
   "source": [
    "8. Write a Python function that takes a list of words and return the longest word and the length\n",
    "of the longest one."
   ],
   "id": "4edb347b437bb4c9"
  },
  {
   "metadata": {},
   "cell_type": "code",
   "source": [
    "def long_length(a):\n",
    "    max = 0\n",
    "    index = 0\n",
    "    dem = 0\n",
    "    for i in a:\n",
    "        if max <len(i):\n",
    "            max = len(i)\n",
    "            index = dem\n",
    "        dem += 1\n",
    "    return max,a[index]\n",
    "a = ['hahaha','whosaidimfat']\n",
    "print(long_length(a))\n"
   ],
   "id": "c7ca061f216222f9",
   "outputs": [],
   "execution_count": null
  },
  {
   "metadata": {},
   "cell_type": "markdown",
   "source": "9. Write a Python program to remove the nth index character from a nonempty string",
   "id": "2dd41f3d93a33ce6"
  },
  {
   "metadata": {
    "ExecuteTime": {
     "end_time": "2025-04-03T08:54:06.135399Z",
     "start_time": "2025-04-03T08:54:00.666251Z"
    }
   },
   "cell_type": "code",
   "source": [
    "a = input('Nhap vao chuoi')\n",
    "n = int(input('Nhap vao so n'))\n",
    "lst = list(a)\n",
    "lst.pop(n)\n",
    "a = ''.join(lst)\n",
    "print(a)"
   ],
   "id": "21256876399d8d20",
   "outputs": [
    {
     "name": "stdout",
     "output_type": "stream",
     "text": [
      "abd\n"
     ]
    }
   ],
   "execution_count": 1
  },
  {
   "metadata": {},
   "cell_type": "markdown",
   "source": [
    "10. Write a Python program to change a given string to a newly string where the first and last\n",
    "chars have been exchanged."
   ],
   "id": "478c2e40d35c1ea6"
  },
  {
   "metadata": {},
   "cell_type": "code",
   "source": [
    "a = list(input('Nhap vao chuoi'))\n",
    "c = a[0]\n",
    "a[0] = a[len(a)-1]\n",
    "a[len(a)-1] = c\n",
    "print(\"\".join(a))"
   ],
   "id": "d4576f48e2582f69",
   "outputs": [],
   "execution_count": null
  },
  {
   "metadata": {},
   "cell_type": "markdown",
   "source": "11. Write a Python program to remove characters that have odd index values in a given string.",
   "id": "779743547be61ef5"
  },
  {
   "metadata": {},
   "cell_type": "code",
   "source": [
    "a = list(input('Nhap vao chuoi'))\n",
    "for i in range(len(a)):\n",
    "    if i%2 == 1:\n",
    "        a[i]=\"\"\n",
    "print(\"\".join(a))"
   ],
   "id": "712bf0894e03a8da",
   "outputs": [],
   "execution_count": null
  },
  {
   "metadata": {},
   "cell_type": "markdown",
   "source": "12. Write a Python program to count the occurrences of each word in a given sentence",
   "id": "bd9249bf28b0bbbd"
  },
  {
   "metadata": {
    "ExecuteTime": {
     "end_time": "2025-04-04T12:09:26.800985Z",
     "start_time": "2025-04-04T12:09:20.320246Z"
    }
   },
   "cell_type": "code",
   "source": [
    "a = input('Nhap vao chuoi')\n",
    "lst = a.split()\n",
    "dict = {}\n",
    "for i in lst:\n",
    "    if i not in dict:\n",
    "        dict[i] = 0\n",
    "for i in lst:\n",
    "    if i in dict:\n",
    "        dict[i] += 1\n",
    "print(dict)\n"
   ],
   "id": "51ee638d6c69edea",
   "outputs": [
    {
     "name": "stdout",
     "output_type": "stream",
     "text": [
      "{'dep': 2, 'trai': 2, 'qua': 1, 'di': 1}\n"
     ]
    }
   ],
   "execution_count": 6
  },
  {
   "metadata": {},
   "cell_type": "markdown",
   "source": [
    "13. Write a Python script that takes input from the user and displays that input back in upper\n",
    "and lower cases."
   ],
   "id": "6fa3d00bf38ef113"
  },
  {
   "metadata": {
    "ExecuteTime": {
     "end_time": "2025-04-04T12:11:50.520523Z",
     "start_time": "2025-04-04T12:11:44.330229Z"
    }
   },
   "cell_type": "code",
   "source": [
    "a = input('Nhap vao chuoi')\n",
    "print(f'{a} lower cases is {a.lower()}')\n",
    "print(f'{a} upper cases is {a.upper()}')"
   ],
   "id": "ac07851a88e45a34",
   "outputs": [
    {
     "name": "stdout",
     "output_type": "stream",
     "text": [
      "con cho jack lower cases is con cho jack\n",
      "con cho jack upper cases is CON CHO JACK\n"
     ]
    }
   ],
   "execution_count": 7
  },
  {
   "metadata": {},
   "cell_type": "markdown",
   "source": [
    "14. Write a Python program that accepts a comma-separated sequence of words as input and\n",
    "prints the distinct words in sorted form (alphanumerically)."
   ],
   "id": "675ee4ef1b50463"
  },
  {
   "metadata": {
    "ExecuteTime": {
     "end_time": "2025-04-04T12:22:40.846655Z",
     "start_time": "2025-04-04T12:22:39.005717Z"
    }
   },
   "cell_type": "code",
   "source": [
    "a = input('Nhap vao chuoi')\n",
    "lst = a.split(',')\n",
    "another = []\n",
    "for i in lst:\n",
    "    if i not in another:\n",
    "        another.append(i)\n",
    "another.sort()\n",
    "print(another)"
   ],
   "id": "aa76a0623bba134e",
   "outputs": [
    {
     "name": "stdout",
     "output_type": "stream",
     "text": [
      "[' black', ' green', ' red', ' white', 'red']\n"
     ]
    }
   ],
   "execution_count": 13
  },
  {
   "metadata": {},
   "cell_type": "markdown",
   "source": "15. Write a Python function to create an HTML string with tags around the word(s).",
   "id": "3ac5df1cfebbb67f"
  },
  {
   "metadata": {
    "ExecuteTime": {
     "end_time": "2025-04-04T12:25:48.714460Z",
     "start_time": "2025-04-04T12:25:34.658463Z"
    }
   },
   "cell_type": "code",
   "source": [
    "def add_tags(tag,string):\n",
    "    c = f'<{tag}>{string}</{tag}>'\n",
    "    return c\n",
    "a = input('Nhap vao chuoi')\n",
    "print(add_tags('i',a))"
   ],
   "id": "e56f2b80018dc2e8",
   "outputs": [
    {
     "name": "stdout",
     "output_type": "stream",
     "text": [
      "<i>Python</i>\n"
     ]
    }
   ],
   "execution_count": 14
  },
  {
   "metadata": {},
   "cell_type": "markdown",
   "source": "16. Write a Python function to insert a string in the middle of a string.",
   "id": "d53e25ad5f0625e5"
  },
  {
   "metadata": {
    "ExecuteTime": {
     "end_time": "2025-04-04T12:35:15.393243Z",
     "start_time": "2025-04-04T12:35:11.728167Z"
    }
   },
   "cell_type": "code",
   "source": [
    "def insert_string_middle(string,insert_string):\n",
    "    return string[:(len(string)//2)]+insert_string+string[(len(string)//2):]\n",
    "a = input('Nhap vao chuoi')\n",
    "print(insert_string_middle('{{}}',a))"
   ],
   "id": "a4bd25df5af3203f",
   "outputs": [
    {
     "name": "stdout",
     "output_type": "stream",
     "text": [
      "{{Python}}\n"
     ]
    }
   ],
   "execution_count": 18
  },
  {
   "metadata": {},
   "cell_type": "markdown",
   "source": [
    "17. Write a Python function to get a string made of 4 copies of the last two characters of a\n",
    "specified string (length must be at least 2)."
   ],
   "id": "9b65964833bd9f97"
  },
  {
   "metadata": {
    "ExecuteTime": {
     "end_time": "2025-04-04T12:43:31.011731Z",
     "start_time": "2025-04-04T12:43:25.804349Z"
    }
   },
   "cell_type": "code",
   "source": [
    "def insert_end(string):\n",
    "    if len(string) >= 2:\n",
    "        return string[len(string)-2:len(string)]*4\n",
    "a = input('Nhap vao chuoi')\n",
    "print(insert_end(a))"
   ],
   "id": "2ded3f281e493639",
   "outputs": [
    {
     "name": "stdout",
     "output_type": "stream",
     "text": [
      "onononon\n"
     ]
    }
   ],
   "execution_count": 19
  },
  {
   "metadata": {},
   "cell_type": "markdown",
   "source": [
    "18. Write a Python function to get a string made of the first three characters of a specified string.\n",
    "If the length of the string is less than 3, return the original string"
   ],
   "id": "6817203439403155"
  },
  {
   "metadata": {
    "ExecuteTime": {
     "end_time": "2025-04-04T12:46:43.922577Z",
     "start_time": "2025-04-04T12:46:41.062376Z"
    }
   },
   "cell_type": "code",
   "source": [
    "def first_3_char(string):\n",
    "    if len(string) >= 3:\n",
    "        return string[0:3]\n",
    "    else: return string\n",
    "a = input('Nhap vao chuoi')\n",
    "print(first_3_char(a))"
   ],
   "id": "191d91538b58527f",
   "outputs": [
    {
     "name": "stdout",
     "output_type": "stream",
     "text": [
      "he\n"
     ]
    }
   ],
   "execution_count": 21
  },
  {
   "metadata": {},
   "cell_type": "markdown",
   "source": "19. Write a Python program to get the last part of a string before a specified character.",
   "id": "7d51cdac4011dc54"
  },
  {
   "metadata": {
    "ExecuteTime": {
     "end_time": "2025-04-04T12:51:22.154130Z",
     "start_time": "2025-04-04T12:51:17.025625Z"
    }
   },
   "cell_type": "code",
   "source": [
    "a = input('Nhap vao chuoi')\n",
    "char = input('Nhap vao cái specified char')\n",
    "print(a[:a.rfind(char)])"
   ],
   "id": "5f029629efce3f0f",
   "outputs": [
    {
     "name": "stdout",
     "output_type": "stream",
     "text": [
      "https://www.w3resource.com/python\n"
     ]
    }
   ],
   "execution_count": 23
  },
  {
   "metadata": {},
   "cell_type": "markdown",
   "source": "20. Write a Python function to reverse a string if its length is a multiple of 4.",
   "id": "c4a8b7efc7409525"
  },
  {
   "metadata": {
    "ExecuteTime": {
     "end_time": "2025-04-04T12:53:09.619250Z",
     "start_time": "2025-04-04T12:53:06.715193Z"
    }
   },
   "cell_type": "code",
   "source": [
    "def reverse_string_ifdiv4(string):\n",
    "    if len(string)%4 == 0:\n",
    "        return string[::-1]\n",
    "    else:\n",
    "        return -1\n",
    "a = input('Nhap vao chuoi')\n",
    "print(reverse_string_ifdiv4(a))"
   ],
   "id": "6a81d1264b380f2",
   "outputs": [
    {
     "name": "stdout",
     "output_type": "stream",
     "text": [
      "dcba\n"
     ]
    }
   ],
   "execution_count": 24
  },
  {
   "metadata": {},
   "cell_type": "markdown",
   "source": [
    "21. Write a Python function to convert a given string to all uppercase if it contains at least 2\n",
    "uppercase characters in the first 4 characters."
   ],
   "id": "41c060d7afa47f87"
  },
  {
   "metadata": {
    "ExecuteTime": {
     "end_time": "2025-04-04T13:02:02.891403Z",
     "start_time": "2025-04-04T13:01:58.872427Z"
    }
   },
   "cell_type": "code",
   "source": [
    "def convert_to_uper(string):\n",
    "    count = 0\n",
    "    for i in string[:4]:\n",
    "        if i.isupper():\n",
    "            count+=1\n",
    "    if count>=2:\n",
    "        return string.upper()\n",
    "    else:\n",
    "        return -1\n",
    "a = input('Nhap vao chuoi')\n",
    "print(convert_to_uper(a))"
   ],
   "id": "80c4407b06eb3535",
   "outputs": [
    {
     "name": "stdout",
     "output_type": "stream",
     "text": [
      "ABCDHJ\n"
     ]
    }
   ],
   "execution_count": 28
  },
  {
   "metadata": {},
   "cell_type": "markdown",
   "source": "22.Write a Python program to sort a string lexicographically.",
   "id": "9d9cf7a33306e70b"
  },
  {
   "metadata": {
    "ExecuteTime": {
     "end_time": "2025-04-04T13:08:56.985966Z",
     "start_time": "2025-04-04T13:08:51.618981Z"
    }
   },
   "cell_type": "code",
   "source": [
    "a = input(\"nhap vao chuoi\")\n",
    "lst = list(a)\n",
    "lst.sort()\n",
    "print(\"\".join(lst))"
   ],
   "id": "b2d5ea9185229ab6",
   "outputs": [
    {
     "name": "stdout",
     "output_type": "stream",
     "text": [
      "abcd\n"
     ]
    }
   ],
   "execution_count": 32
  },
  {
   "metadata": {},
   "cell_type": "markdown",
   "source": "23. Write a Python program to remove a newline in Python.",
   "id": "5f313e60559a81f3"
  },
  {
   "metadata": {
    "ExecuteTime": {
     "end_time": "2025-04-04T13:18:25.348325Z",
     "start_time": "2025-04-04T13:18:18.402404Z"
    }
   },
   "cell_type": "code",
   "source": [
    "a = input('Nhap vao chuoi')\n",
    "lst = a.split()\n",
    "a = ''\n",
    "for i in lst:\n",
    "      a += i + ' '\n",
    "print(a)\n"
   ],
   "id": "b7d87798d2901f31",
   "outputs": [
    {
     "name": "stdout",
     "output_type": "stream",
     "text": [
      "abcd cd eh \n"
     ]
    }
   ],
   "execution_count": 37
  },
  {
   "metadata": {},
   "cell_type": "markdown",
   "source": "24. Write a Python program to check whether a string starts with specified characters.",
   "id": "8ed0a5b36a2d4760"
  },
  {
   "metadata": {
    "ExecuteTime": {
     "end_time": "2025-04-04T13:21:04.408005Z",
     "start_time": "2025-04-04T13:20:59.088291Z"
    }
   },
   "cell_type": "code",
   "source": [
    "def check_thefirstif_isspecified(specified,string):\n",
    "    if string[0] == specified:\n",
    "        return \"Okay con de\"\n",
    "    else:\n",
    "        return \"Not okay con de\"\n",
    "a = input('Nhap vao chuoi')\n",
    "print(check_thefirstif_isspecified('b',a))\n"
   ],
   "id": "be5546d4a7ad0b0b",
   "outputs": [
    {
     "name": "stdout",
     "output_type": "stream",
     "text": [
      "Not okay con de\n"
     ]
    }
   ],
   "execution_count": 39
  },
  {
   "metadata": {},
   "cell_type": "markdown",
   "source": "25. Write a Python program to create a Caesar encryption.",
   "id": "6ad92396242a38a"
  },
  {
   "metadata": {
    "ExecuteTime": {
     "end_time": "2025-04-04T13:31:17.841355Z",
     "start_time": "2025-04-04T13:31:14.560930Z"
    }
   },
   "cell_type": "code",
   "source": [
    "def caesar_encrypt(string,shift):\n",
    "    result = \"\"\n",
    "    for char in string:\n",
    "        if char.isalpha():\n",
    "            if char.isupper():\n",
    "                result += chr((ord(char) - ord('A') + shift) % 26 + ord('A'))\n",
    "            elif char.islower():\n",
    "                result += chr((ord(char) - ord('a') + shift) % 26 + ord('a'))\n",
    "        else:\n",
    "            result += char\n",
    "    return result\n",
    "a = input(\"Nhap vao chuoi: \")\n",
    "shift = int(input(\"Nhap vao so shift: \"))\n",
    "encrypted_message = caesar_encrypt(a, shift)\n",
    "print(\"Encrypted message:\", encrypted_message)"
   ],
   "id": "5d8850bdce6fe27",
   "outputs": [
    {
     "name": "stdout",
     "output_type": "stream",
     "text": [
      "Encrypted message: Khoor, Zruog!\n"
     ]
    }
   ],
   "execution_count": 42
  },
  {
   "metadata": {},
   "cell_type": "markdown",
   "source": "26. Write a Python program to display formatted text (width=50) as output",
   "id": "43f69fcab483f364"
  },
  {
   "metadata": {
    "ExecuteTime": {
     "end_time": "2025-04-04T13:43:06.510939Z",
     "start_time": "2025-04-04T13:42:55.461663Z"
    }
   },
   "cell_type": "code",
   "source": [
    "a = input(\"Nhap vao chuoi: \")\n",
    "lst = []\n",
    "strings = \"\"\n",
    "for i in range(len(a)):\n",
    "    if i % 50 == 0:\n",
    "        lst.append(strings)\n",
    "        print(lst[i//50-1])\n",
    "    strings += a[i]\n"
   ],
   "id": "59c106be611f5743",
   "outputs": [
    {
     "name": "stdout",
     "output_type": "stream",
     "text": [
      "\n",
      "\n",
      "\"\"\"Python is an interpreted high-level general-pur\n",
      "\"\"\"Python is an interpreted high-level general-purpose programming language. Its design philosophy e\n"
     ]
    }
   ],
   "execution_count": 47
  },
  {
   "metadata": {},
   "cell_type": "markdown",
   "source": "27. Write a Python program to remove existing indentation from all of the lines in a given text",
   "id": "515ce296db486406"
  },
  {
   "metadata": {
    "ExecuteTime": {
     "end_time": "2025-04-04T14:08:16.342031Z",
     "start_time": "2025-04-04T14:08:06.798304Z"
    }
   },
   "cell_type": "code",
   "source": [
    "a = input(\"nhap vao chuoi\")\n",
    "lst = a.splitlines()\n",
    "newlst = []\n",
    "for i in lst:\n",
    "    count = 0\n",
    "    for j in i:\n",
    "        if j == ' ':\n",
    "            count+=1\n",
    "        else:\n",
    "            newlst.append(i[count:])\n",
    "            break\n",
    "for i in newlst:\n",
    "    print(i)\n",
    "\n"
   ],
   "id": "142a58d193cfedd4",
   "outputs": [
    {
     "name": "stdout",
     "output_type": "stream",
     "text": [
      "com kum\n",
      "cum le\n"
     ]
    }
   ],
   "execution_count": 57
  },
  {
   "metadata": {},
   "cell_type": "markdown",
   "source": "28. Write a Python program to add prefix text to all of the lines in a string.",
   "id": "6911fd89a98bc025"
  },
  {
   "metadata": {
    "ExecuteTime": {
     "end_time": "2025-04-04T14:11:58.960442Z",
     "start_time": "2025-04-04T14:11:51.022256Z"
    }
   },
   "cell_type": "code",
   "source": [
    "def add_prefix_to_lines(text,prefix):\n",
    "    lines = text.splitlines()\n",
    "    new_lines = []\n",
    "    for line in lines:\n",
    "        new_lines.append(prefix +' ' + line)\n",
    "    result = \"\\n\".join(new_lines)\n",
    "    return result\n",
    "a = input(\"nhap vao chuoi\")\n",
    "c = input(\"nhap vao prefix\")\n",
    "formatted_text = add_prefix_to_lines(a,c)\n",
    "print(\"Kết quả sau khi thêm prefix:\")\n",
    "print(formatted_text)"
   ],
   "id": "c77807dddeb1d545",
   "outputs": [
    {
     "name": "stdout",
     "output_type": "stream",
     "text": [
      "Kết quả sau khi thêm prefix:\n",
      "a a\n",
      "a b\n",
      "a c\n"
     ]
    }
   ],
   "execution_count": 59
  },
  {
   "metadata": {},
   "cell_type": "markdown",
   "source": "29. Write a Python program to set the indentation of the first line",
   "id": "9a7f5ab62f70207"
  },
  {
   "metadata": {
    "ExecuteTime": {
     "end_time": "2025-04-04T14:15:13.478309Z",
     "start_time": "2025-04-04T14:15:10.111491Z"
    }
   },
   "cell_type": "code",
   "source": [
    "a = input(\"nhap vao chuoi\")\n",
    "lst = a.splitlines()\n",
    "lst[0] ='         '+ lst[0]\n",
    "print('\\n'.join(lst))"
   ],
   "id": "4ed11de7fbd6ee78",
   "outputs": [
    {
     "name": "stdout",
     "output_type": "stream",
     "text": [
      "         a\n",
      "b\n",
      "c\n"
     ]
    }
   ],
   "execution_count": 61
  },
  {
   "metadata": {},
   "cell_type": "markdown",
   "source": "30. Write a Python program to print the following numbers up to 2 decimal places.",
   "id": "b901ef22e5e028eb"
  },
  {
   "metadata": {
    "ExecuteTime": {
     "end_time": "2025-04-04T14:16:51.812843Z",
     "start_time": "2025-04-04T14:16:46.258720Z"
    }
   },
   "cell_type": "code",
   "source": [
    "a = float(input(\"nhap vao so: \"))\n",
    "print( format(a, \".2f\"))"
   ],
   "id": "5fa3ad8241423927",
   "outputs": [
    {
     "name": "stdout",
     "output_type": "stream",
     "text": [
      "4.11\n"
     ]
    }
   ],
   "execution_count": 62
  },
  {
   "metadata": {},
   "cell_type": "markdown",
   "source": "31. Write a Python program to print the following numbers up to 2 decimal places with a sign.",
   "id": "cee5a6c10ddeba86"
  },
  {
   "metadata": {
    "ExecuteTime": {
     "end_time": "2025-04-04T14:18:57.876953Z",
     "start_time": "2025-04-04T14:18:54.447743Z"
    }
   },
   "cell_type": "code",
   "source": [
    "a = float(input(\"nhap vao so: \"))\n",
    "print( format(a, \"+.2f\"))"
   ],
   "id": "d7a8c99fa069822b",
   "outputs": [
    {
     "name": "stdout",
     "output_type": "stream",
     "text": [
      "+12.11\n"
     ]
    }
   ],
   "execution_count": 64
  },
  {
   "metadata": {},
   "cell_type": "markdown",
   "source": [
    "32. Write a Python program to print the following positive and negative numbers with no\n",
    "decimal places."
   ],
   "id": "a8bd646ca1594a91"
  },
  {
   "metadata": {
    "ExecuteTime": {
     "end_time": "2025-04-04T14:20:49.923982Z",
     "start_time": "2025-04-04T14:20:46.792233Z"
    }
   },
   "cell_type": "code",
   "source": [
    "a = float(input(\"nhap vao so: \"))\n",
    "print( format(int(a), \"+\"))"
   ],
   "id": "f4815a0b403a7680",
   "outputs": [
    {
     "name": "stdout",
     "output_type": "stream",
     "text": [
      "+12\n"
     ]
    }
   ],
   "execution_count": 67
  },
  {
   "metadata": {},
   "cell_type": "markdown",
   "source": [
    "33. Write a Python program to print the following integers with zeros to the left of the specified\n",
    "width."
   ],
   "id": "ba32d9ce21a4266b"
  },
  {
   "metadata": {
    "ExecuteTime": {
     "end_time": "2025-04-04T14:28:09.399382Z",
     "start_time": "2025-04-04T14:28:04.984130Z"
    }
   },
   "cell_type": "code",
   "source": [
    "a = int(input(\"nhap vao so: \"))\n",
    "b = int(input(\"nhap vao chieu rong: \"))\n",
    "print(f'{a:0{b}d}')"
   ],
   "id": "a09926c7da6a19b9",
   "outputs": [
    {
     "name": "stdout",
     "output_type": "stream",
     "text": [
      "0012\n"
     ]
    }
   ],
   "execution_count": 71
  },
  {
   "metadata": {},
   "cell_type": "markdown",
   "source": [
    "34. Write a Python program to print the following integers with '*' to the right of the specified\n",
    "width."
   ],
   "id": "eb402ce49e57b319"
  },
  {
   "metadata": {
    "ExecuteTime": {
     "end_time": "2025-04-04T14:30:41.884058Z",
     "start_time": "2025-04-04T14:30:38.969672Z"
    }
   },
   "cell_type": "code",
   "source": [
    "a = int(input(\"nhap vao so: \"))\n",
    "b = int(input(\"nhap vao chieu rong: \"))\n",
    "print(f'{a:*<{b}d}')"
   ],
   "id": "4808c67ce66e05e9",
   "outputs": [
    {
     "name": "stdout",
     "output_type": "stream",
     "text": [
      "12***\n"
     ]
    }
   ],
   "execution_count": 73
  },
  {
   "metadata": {},
   "cell_type": "markdown",
   "source": "35. Write a Python program to display a number with a comma separator.",
   "id": "9b73a77e603d91ba"
  },
  {
   "metadata": {},
   "cell_type": "code",
   "outputs": [],
   "execution_count": null,
   "source": [
    "a = int(input(\"Nhập số nguyên: \"))\n",
    "print(f\":{a:,}\")"
   ],
   "id": "e1bf25de9beaa041"
  },
  {
   "metadata": {},
   "cell_type": "markdown",
   "source": "36. Write a Python program to format a number with a percentage.",
   "id": "37c3a7bfcbfb99bb"
  },
  {
   "metadata": {},
   "cell_type": "code",
   "outputs": [],
   "execution_count": null,
   "source": [
    "a = float(input(\"Nhập số: \"))\n",
    "print(f\":{a:.2%}\")\n"
   ],
   "id": "c6e6dd9f6e02098f"
  },
  {
   "metadata": {},
   "cell_type": "markdown",
   "source": "37. Write a Python program to display a number in left, right, and center aligned with a width of 10",
   "id": "c66c30323f0cb7a0"
  },
  {
   "metadata": {},
   "cell_type": "code",
   "outputs": [],
   "execution_count": null,
   "source": [
    "a = input()\n",
    "print(f\"{a:<10}\")\n",
    "print(f\"{a:>10}\")\n",
    "print(f\"{a:^10}\")"
   ],
   "id": "c0adbaa8315d8bae"
  },
  {
   "metadata": {},
   "cell_type": "markdown",
   "source": "38. Write a Python program to count occurrences of a substring in a string.",
   "id": "417b30e2bdf19ada"
  },
  {
   "metadata": {},
   "cell_type": "code",
   "outputs": [],
   "execution_count": null,
   "source": [
    "a = input()\n",
    "b = input()\n",
    "print(a.count(b))"
   ],
   "id": "a1e035b84d509764"
  },
  {
   "metadata": {},
   "cell_type": "markdown",
   "source": "39. Write a Python program to reverse a string.",
   "id": "35b4098abb24323b"
  },
  {
   "metadata": {
    "ExecuteTime": {
     "end_time": "2025-04-04T14:37:01.797589Z",
     "start_time": "2025-04-04T14:36:59.099505Z"
    }
   },
   "cell_type": "code",
   "source": [
    "a = input()\n",
    "print(a[::-1])"
   ],
   "id": "e25a3ecaff6eef49",
   "outputs": [
    {
     "name": "stdout",
     "output_type": "stream",
     "text": [
      "cdba\n"
     ]
    }
   ],
   "execution_count": 77
  },
  {
   "metadata": {},
   "cell_type": "markdown",
   "source": "40. Write a Python program to reverse words in a string",
   "id": "bb5bad1324692853"
  },
  {
   "metadata": {},
   "cell_type": "code",
   "outputs": [],
   "execution_count": null,
   "source": [
    "a = input()\n",
    "print(a[::-1])"
   ],
   "id": "1ae2c32af2f5d20c"
  },
  {
   "metadata": {},
   "cell_type": "markdown",
   "source": "41. Write a Python program to strip a set of characters from a string.",
   "id": "ba72024e358a0a2d"
  },
  {
   "metadata": {},
   "cell_type": "code",
   "outputs": [],
   "execution_count": null,
   "source": [
    "a = input()\n",
    "b = input()\n",
    "print(a.strip(b))"
   ],
   "id": "97f049c875a21286"
  },
  {
   "metadata": {},
   "cell_type": "markdown",
   "source": "42. Write a Python program to count repeated characters in a string",
   "id": "4492bf81ae95886c"
  },
  {
   "metadata": {},
   "cell_type": "code",
   "outputs": [],
   "execution_count": null,
   "source": [
    "a = input('Nhap vao chuoi').lower()\n",
    "diction = {}\n",
    "for i in a:\n",
    "    if i not in diction:\n",
    "        diction[i] = 0\n",
    "for i in a:\n",
    "    if i in diction:\n",
    "        diction[i] += 1\n",
    "print(diction)"
   ],
   "id": "5746fe923f6fe9d2"
  },
  {
   "metadata": {},
   "cell_type": "markdown",
   "source": [
    "43. Write a Python program to print the square and cube symbols in the area of a rectangle and\n",
    "the volume of a cylinder."
   ],
   "id": "8797d5ea73f4c086"
  },
  {
   "metadata": {},
   "cell_type": "code",
   "outputs": [],
   "execution_count": null,
   "source": [
    "length = float(input(\"Nhap chieu dai hinh chu nhat: \"))\n",
    "width = float(input(\"Nhap chieu rong hinh chu nhat: \"))\n",
    "area = length * width\n",
    "radius = float(input(\"Nhap ban kinh hinh tru: \"))\n",
    "height = float(input(\"Nhap chieu cao hinh tru: \"))\n",
    "\n",
    "volume = 3.14 * (radius ** 2) * height\n",
    "print(f\"Dien tich hinh chu nhat: {area} cm\")\n",
    "print(f\"The tich hinh tru: {volume:.2f} cm\")\n"
   ],
   "id": "e1c5cdfb0af88300"
  },
  {
   "metadata": {},
   "cell_type": "markdown",
   "source": "44. Write a Python program to print the index of a character in a string",
   "id": "4525210b648612b"
  },
  {
   "metadata": {
    "ExecuteTime": {
     "end_time": "2025-04-04T14:44:01.720535Z",
     "start_time": "2025-04-04T14:44:00.020552Z"
    }
   },
   "cell_type": "code",
   "source": [
    "a = input('Nhap vao chuoi')\n",
    "for i in range(len(a)):\n",
    "    print(f'{a[i]} position {i}')"
   ],
   "id": "215bdd58890a6459",
   "outputs": [
    {
     "name": "stdout",
     "output_type": "stream",
     "text": [
      "w position 0\n",
      "3 position 1\n",
      "r position 2\n",
      "e position 3\n",
      "s position 4\n",
      "o position 5\n",
      "u position 6\n",
      "r position 7\n",
      "c position 8\n",
      "e position 9\n"
     ]
    }
   ],
   "execution_count": 78
  },
  {
   "metadata": {},
   "cell_type": "markdown",
   "source": "45. Write a Python program to check whether a string contains all letters of the alphabet",
   "id": "5d6938cff648a036"
  },
  {
   "metadata": {},
   "cell_type": "code",
   "outputs": [],
   "execution_count": null,
   "source": [
    "a = input()\n",
    "alphabet = \"abcdefghijklmnopqrstuvwxyz\"\n",
    "a = a.lower()\n",
    "contains_all_letters = True\n",
    "\n",
    "for letter in alphabet:\n",
    "    if letter not in a:\n",
    "        contains_all_letters = False\n",
    "        break\n",
    "if contains_all_letters:\n",
    "    print(\"Chuoi co chua tat ca cac chu cai trong bang chu cai.\")\n",
    "else:\n",
    "    print(\"Chuoi khong chua tat ca cac chu cai trong bang chu cai.\")"
   ],
   "id": "debfbf364e1bfee3"
  },
  {
   "metadata": {},
   "cell_type": "markdown",
   "source": "46. Write a Python program to convert a given string into a list of words",
   "id": "3adf162e62666e72"
  },
  {
   "metadata": {},
   "cell_type": "code",
   "outputs": [],
   "execution_count": null,
   "source": [
    "a = input('Nhap vao chuoi')\n",
    "lst = a.split()\n",
    "print(lst)"
   ],
   "id": "ea3d6fef825fa916"
  },
  {
   "metadata": {},
   "cell_type": "markdown",
   "source": "47. Write a Python program to lowercase the first n characters in a string.",
   "id": "1a247d902a330292"
  },
  {
   "metadata": {},
   "cell_type": "code",
   "outputs": [],
   "execution_count": null,
   "source": [
    "n = int(input('Nhap vao so n'))\n",
    "a = input('Nhap vao chuoi')\n",
    "print(a[0:n].lower() + a[n+1:len(a)])"
   ],
   "id": "7445db211b4b5644"
  },
  {
   "metadata": {},
   "cell_type": "markdown",
   "source": "48. Write a Python program to swap commas and dots in a string",
   "id": "27eed46b138894d1"
  },
  {
   "metadata": {},
   "cell_type": "code",
   "outputs": [],
   "execution_count": null,
   "source": [
    "a = input('Nhap vao chuoi')\n",
    "a = a.replace(\",\",'a')\n",
    "a = a.replace(\".\",',')\n",
    "a = a.replace(\"a\",\".\")\n",
    "print(a)\n"
   ],
   "id": "ac60fbb37c5a3700"
  },
  {
   "metadata": {},
   "cell_type": "markdown",
   "source": "49. Write a Python program to count and display vowels in text",
   "id": "9c820b25b83455ae"
  },
  {
   "metadata": {
    "ExecuteTime": {
     "end_time": "2025-04-04T15:24:02.015453Z",
     "start_time": "2025-04-04T15:23:57.086330Z"
    }
   },
   "cell_type": "code",
   "source": [
    "a = input('Nhap vao chuoi').lower()\n",
    "diction = {}\n",
    "vowels = \"aeiou\"\n",
    "for i in vowels:\n",
    "    if i.lower() in a:\n",
    "        diction[i] = 0\n",
    "for i in a:\n",
    "    if i in diction:\n",
    "        diction[i] += 1\n",
    "print(diction)"
   ],
   "id": "ad53e9704ed3e326",
   "outputs": [
    {
     "name": "stdout",
     "output_type": "stream",
     "text": [
      "{'a': 2}\n"
     ]
    }
   ],
   "execution_count": 3
  },
  {
   "metadata": {},
   "cell_type": "markdown",
   "source": "50. Write a Python program to split a string on the last occurrence of the delimiter.",
   "id": "46896c53f6d8300"
  },
  {
   "metadata": {
    "ExecuteTime": {
     "end_time": "2025-04-04T15:26:06.038360Z",
     "start_time": "2025-04-04T15:25:59.709180Z"
    }
   },
   "cell_type": "code",
   "source": [
    "a = input()\n",
    "parts = a.rsplit(\" \", 1)\n",
    "print(\"Truoc dau tach cuoi:\", parts[0])\n",
    "print(\"Sau dau tach cuoi:  \", parts[1])"
   ],
   "id": "a689eb34751f2638",
   "outputs": [
    {
     "name": "stdout",
     "output_type": "stream",
     "text": [
      "Truoc dau tach cuoi: abc dd\n",
      "Sau dau tach cuoi:   eee\n"
     ]
    }
   ],
   "execution_count": 4
  }
 ],
 "metadata": {
  "kernelspec": {
   "name": "python3",
   "language": "python",
   "display_name": "Python 3 (ipykernel)"
  }
 },
 "nbformat": 5,
 "nbformat_minor": 9
}
